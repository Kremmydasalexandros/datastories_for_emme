{
  "nbformat": 4,
  "nbformat_minor": 0,
  "metadata": {
    "colab": {
      "provenance": [],
      "authorship_tag": "ABX9TyPBgsZ/4Iup3YXb378jB7M2",
      "include_colab_link": true
    },
    "kernelspec": {
      "name": "python3",
      "display_name": "Python 3"
    },
    "language_info": {
      "name": "python"
    }
  },
  "cells": [
    {
      "cell_type": "markdown",
      "metadata": {
        "id": "view-in-github",
        "colab_type": "text"
      },
      "source": [
        "<a href=\"https://colab.research.google.com/github/Kremmydasalexandros/datastories_for_emme/blob/main/%CE%91%CF%83%CE%BA%CE%AE%CF%83%CE%B5%CE%B9%CF%82_week_4.ipynb\" target=\"_parent\"><img src=\"https://colab.research.google.com/assets/colab-badge.svg\" alt=\"Open In Colab\"/></a>"
      ]
    },
    {
      "cell_type": "code",
      "execution_count": null,
      "metadata": {
        "id": "y7qyrTtV2NUr"
      },
      "outputs": [],
      "source": [
        "urlsL = [\"https://www.protothema.gr/economy/article/1484429/sudaxeis-maiou-2024-pote-oi-pliromes-deite-tis-imerominies-se-ola-ta-tameia/\"]"
      ]
    },
    {
      "cell_type": "code",
      "source": [
        "urlsL = [\"https://www.protothema.gr/economy/article/1484429/sudaxeis-maiou-2024-pote-oi-pliromes-deite-tis-imerominies-se-ola-ta-tameia/\"]\n",
        "urlsL[0]\n",
        "url = urlsL[0]\n",
        "print(url)\n",
        "url.replace(\"https://www.protothema.gr/economy/\" , \"\")\n",
        "url.replace(\"https://www.protothema.gr/economy/\" , \"\").replace(\"/\" , \"\")\n",
        "url.replace(\"https://www.protothema.gr/economy/\" , \"\").replace(\"/\" , \"\").replace(\"-\" , \" \")\n",
        "title = url.replace(\"https://www.protothema.gr/economy/article/\" , \"\").replace(\"/\" , \"\").replace(\"-\" , \" \")\n",
        "print(title)\n",
        "title.split(\" \")\n",
        "titleL = title.split(\" \")\n",
        "print(titleL)\n",
        "len(titleL)\n",
        "arithmoslexewn = len(title)\n",
        "type(arithmoslexewn)\n",
        "lexeiskaititlos = []\n",
        "lexeiskaititlos.append(arithmoslexewn)\n",
        "print(lexeiskaititlos)"
      ],
      "metadata": {
        "colab": {
          "base_uri": "https://localhost:8080/"
        },
        "id": "box2EFBj2pAN",
        "outputId": "da23bd55-732d-45a6-ed3c-a131d43bdacb"
      },
      "execution_count": 23,
      "outputs": [
        {
          "output_type": "stream",
          "name": "stdout",
          "text": [
            "https://www.protothema.gr/economy/article/1484429/sudaxeis-maiou-2024-pote-oi-pliromes-deite-tis-imerominies-se-ola-ta-tameia/\n",
            "1484429sudaxeis maiou 2024 pote oi pliromes deite tis imerominies se ola ta tameia\n",
            "['1484429sudaxeis', 'maiou', '2024', 'pote', 'oi', 'pliromes', 'deite', 'tis', 'imerominies', 'se', 'ola', 'ta', 'tameia']\n",
            "[82]\n"
          ]
        }
      ]
    },
    {
      "cell_type": "code",
      "source": [
        "urlsL2 = [\"https://www.kathimerini.gr/opinion/562968298/aytoi-poy-timorisan-ton-erntogan/\"]\n",
        "urlsL2[0]\n",
        "print(urlsL2)\n",
        "url = urlsL2[0]\n",
        "print(url)\n",
        "url.replace(\"https://www.kathimerini.gr/opinion/\" , \"\")\n",
        "url.replace(\"https://www.kathimerini.gr/opinion/\" , \"\").replace(\"/\" , \"\")\n",
        "url.replace(\"https://www.kathimerini.gr/opinion/\" , \"\").replace(\"/\" , \"\").replace(\"-\" , \" \")\n",
        "title = url.replace(\"https://www.kathimerini.gr/opinion/\" , \"\").replace(\"/\" , \"\").replace(\"-\" , \" \")\n",
        "print(title)\n",
        "title.split(\" \")\n",
        "titleL = title.split(\" \")\n",
        "print(titleL)\n",
        "len(titleL)\n",
        "title_words_nbr = len(titleL)\n",
        "print(title_words_nbr)\n",
        "title_words_nbrL = []\n",
        "title_words_nbrL.append(title_words_nbr)\n",
        "print(title_words_nbrL)\n",
        "\n"
      ],
      "metadata": {
        "colab": {
          "base_uri": "https://localhost:8080/"
        },
        "id": "EkMydCqQFy9_",
        "outputId": "312f82ba-c5d8-429f-f69b-a2d213b30af3"
      },
      "execution_count": 25,
      "outputs": [
        {
          "output_type": "stream",
          "name": "stdout",
          "text": [
            "['https://www.kathimerini.gr/opinion/562968298/aytoi-poy-timorisan-ton-erntogan/']\n",
            "https://www.kathimerini.gr/opinion/562968298/aytoi-poy-timorisan-ton-erntogan/\n",
            "562968298aytoi poy timorisan ton erntogan\n",
            "['562968298aytoi', 'poy', 'timorisan', 'ton', 'erntogan']\n",
            "5\n",
            "[5]\n"
          ]
        }
      ]
    },
    {
      "cell_type": "code",
      "source": [
        "urlsL3 = [\"https://www.naftemporiki.gr/health/1635166/ayxisi-metochikoy-kefalaioy-apo-ton-omilo-general-health-care/\"]\n",
        "urlsL3[0]\n",
        "url = urlsL3[0]\n",
        "print(url)\n",
        "url.replace(\"https://www.naftemporiki.gr/health/\" , \"\")\n",
        "url.replace(\"https://www.naftemporiki.gr/health/\" ,\"\").replace(\"/\" , \"\")\n",
        "url.replace(\"https://www.naftemporiki.gr/health/\" , \"\").replace(\"/\" , \"\").replace(\"-\" , \"\")\n",
        "title = url.replace(\"https://www.naftemporiki.gr/health/\", \"\").replace(\"/\" , \"\").replace(\"-\" , \" \")\n",
        "print(title)\n",
        "title.split(\" \")\n",
        "titleL = title.split(\" \")\n",
        "print(titleL)\n",
        "len(titleL)\n",
        "title_words_nbr = len(titleL)\n",
        "print(title_words_nbr)\n",
        "title_words_nbrL = []\n",
        "title_words_nbrL.append(title_words_nbr)\n",
        "print(title_words_nbrL)"
      ],
      "metadata": {
        "colab": {
          "base_uri": "https://localhost:8080/"
        },
        "id": "jMYmMer4PvGw",
        "outputId": "08f9d326-c932-45bd-fc3d-b4ef53bd608a"
      },
      "execution_count": 35,
      "outputs": [
        {
          "output_type": "stream",
          "name": "stdout",
          "text": [
            "https://www.naftemporiki.gr/health/1635166/ayxisi-metochikoy-kefalaioy-apo-ton-omilo-general-health-care/\n",
            "1635166ayxisi metochikoy kefalaioy apo ton omilo general health care\n",
            "['1635166ayxisi', 'metochikoy', 'kefalaioy', 'apo', 'ton', 'omilo', 'general', 'health', 'care']\n",
            "9\n",
            "[9]\n"
          ]
        }
      ]
    }
  ]
}