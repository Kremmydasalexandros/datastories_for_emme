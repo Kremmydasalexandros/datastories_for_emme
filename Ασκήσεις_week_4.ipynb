{
  "nbformat": 4,
  "nbformat_minor": 0,
  "metadata": {
    "colab": {
      "provenance": [],
      "authorship_tag": "ABX9TyPJ3b/cpFHigZCEj0w6/MmN",
      "include_colab_link": true
    },
    "kernelspec": {
      "name": "python3",
      "display_name": "Python 3"
    },
    "language_info": {
      "name": "python"
    }
  },
  "cells": [
    {
      "cell_type": "markdown",
      "metadata": {
        "id": "view-in-github",
        "colab_type": "text"
      },
      "source": [
        "<a href=\"https://colab.research.google.com/github/Kremmydasalexandros/datastories_for_emme/blob/main/%CE%91%CF%83%CE%BA%CE%AE%CF%83%CE%B5%CE%B9%CF%82_week_4.ipynb\" target=\"_parent\"><img src=\"https://colab.research.google.com/assets/colab-badge.svg\" alt=\"Open In Colab\"/></a>"
      ]
    },
    {
      "cell_type": "code",
      "execution_count": null,
      "metadata": {
        "id": "y7qyrTtV2NUr"
      },
      "outputs": [],
      "source": [
        "urlsL = [\"https://www.protothema.gr/economy/article/1484429/sudaxeis-maiou-2024-pote-oi-pliromes-deite-tis-imerominies-se-ola-ta-tameia/\"]"
      ]
    },
    {
      "cell_type": "code",
      "source": [
        "urlsL = [\"https://www.protothema.gr/economy/article/1484429/sudaxeis-maiou-2024-pote-oi-pliromes-deite-tis-imerominies-se-ola-ta-tameia/\"]\n",
        "urlsL[0]\n",
        "url = urlsL[0]\n",
        "print(url)\n",
        "url.replace(\"https://www.protothema.gr/economy/\" , \"\")\n",
        "url.replace(\"https://www.protothema.gr/economy/\" , \"\").replace(\"/\" , \"\")\n",
        "url.replace(\"https://www.protothema.gr/economy/\" , \"\").replace(\"/\" , \"\").replace(\"-\" , \" \")\n",
        "title = url.replace(\"https://www.protothema.gr/economy/article/\" , \"\").replace(\"/\" , \"\").replace(\"-\" , \" \")\n",
        "print(title)\n",
        "title.split(\" \")\n",
        "titleL = title.split(\" \")\n",
        "print(titleL)\n",
        "len(titleL)\n",
        "arithmoslexewn = len(title)\n",
        "type(arithmoslexewn)\n",
        "lexeiskaititlos = []\n",
        "lexeiskaititlos.append(arithmoslexewn)\n",
        "print(lexeiskaititlos)"
      ],
      "metadata": {
        "colab": {
          "base_uri": "https://localhost:8080/"
        },
        "id": "box2EFBj2pAN",
        "outputId": "74e1ce11-ad2d-478c-a1ac-0357f5798831"
      },
      "execution_count": 21,
      "outputs": [
        {
          "output_type": "stream",
          "name": "stdout",
          "text": [
            "https://www.protothema.gr/economy/article/1484429/sudaxeis-maiou-2024-pote-oi-pliromes-deite-tis-imerominies-se-ola-ta-tameia/\n",
            "1484429sudaxeis maiou 2024 pote oi pliromes deite tis imerominies se ola ta tameia\n",
            "['1484429sudaxeis', 'maiou', '2024', 'pote', 'oi', 'pliromes', 'deite', 'tis', 'imerominies', 'se', 'ola', 'ta', 'tameia']\n",
            "[82]\n"
          ]
        }
      ]
    }
  ]
}