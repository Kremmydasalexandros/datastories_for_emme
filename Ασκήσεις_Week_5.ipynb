{
  "nbformat": 4,
  "nbformat_minor": 0,
  "metadata": {
    "colab": {
      "provenance": [],
      "authorship_tag": "ABX9TyMSGaiS/j/aUOiT3duov48M",
      "include_colab_link": true
    },
    "kernelspec": {
      "name": "python3",
      "display_name": "Python 3"
    },
    "language_info": {
      "name": "python"
    }
  },
  "cells": [
    {
      "cell_type": "markdown",
      "metadata": {
        "id": "view-in-github",
        "colab_type": "text"
      },
      "source": [
        "<a href=\"https://colab.research.google.com/github/Kremmydasalexandros/datastories_for_emme/blob/main/%CE%91%CF%83%CE%BA%CE%AE%CF%83%CE%B5%CE%B9%CF%82_Week_5.ipynb\" target=\"_parent\"><img src=\"https://colab.research.google.com/assets/colab-badge.svg\" alt=\"Open In Colab\"/></a>"
      ]
    },
    {
      "cell_type": "code",
      "execution_count": 3,
      "metadata": {
        "id": "ti0HgGphp6fP"
      },
      "outputs": [],
      "source": [
        "urlsL = [\n",
        "    \"https://www.reporter.gr/Oles-oi-eidhseis/600370-Ghpeda-Pws-na-apokthsete-hlektroniko-eisithrio-me-kinhto-Huawei-H-diadikasia\",\n",
        "    \"https://www.reporter.gr/Diethnh/Diethneis-Eidhseis/600372-Synodos-Koryfhs-Proshlwsh-sth-synolikh-dieythethsh-toy-Kypriakoy\",\n",
        "    \"https://www.reporter.gr/Analyseis/600531-AVE-Apo-12-4-se-diapragmateysh-oi-20,64-ekat-nees-metoches\",\n",
        "    \"https://www.reporter.gr/Diethnh/Chrhmatisthria/600539-Meikta-proshma-stis-eyrwagores-meta-to-alma-plhthwrismoy-stis-HPA\"\n",
        "]\n",
        "\n",
        "\n"
      ]
    },
    {
      "cell_type": "code",
      "source": [
        "titles_list = []\n",
        "words_nbr_list = []"
      ],
      "metadata": {
        "id": "0VLtGS53p7vo"
      },
      "execution_count": 4,
      "outputs": []
    },
    {
      "cell_type": "code",
      "source": [
        "for url in urlsL:\n",
        "  url = url.split(\"/\")\n",
        "  title = url[-1]\n",
        "  index_start = title.index(\"-\")\n",
        "  title = title[index_start+1 : ]\n",
        "  title = title.replace(\"-\", \" \")\n",
        "  titles_list.append(title)\n",
        "  title_words = title.split(\" \")\n",
        "  words_nbr = len(title_words)\n",
        "  words_nbr_list.append(words_nbr)"
      ],
      "metadata": {
        "id": "HyCbYb8iqah1"
      },
      "execution_count": 5,
      "outputs": []
    },
    {
      "cell_type": "code",
      "source": [
        "print(titles_list)\n",
        "print(words_nbr_list)"
      ],
      "metadata": {
        "colab": {
          "base_uri": "https://localhost:8080/"
        },
        "id": "Xu1AUxgdqc0j",
        "outputId": "9c84e748-3b8a-4bc2-d9a8-5bbbbc1d9287"
      },
      "execution_count": 6,
      "outputs": [
        {
          "output_type": "stream",
          "name": "stdout",
          "text": [
            "['Ghpeda Pws na apokthsete hlektroniko eisithrio me kinhto Huawei H diadikasia', 'Synodos Koryfhs Proshlwsh sth synolikh dieythethsh toy Kypriakoy', 'AVE Apo 12 4 se diapragmateysh oi 20,64 ekat nees metoches', 'Meikta proshma stis eyrwagores meta to alma plhthwrismoy stis HPA']\n",
            "[11, 8, 11, 10]\n"
          ]
        }
      ]
    }
  ]
}