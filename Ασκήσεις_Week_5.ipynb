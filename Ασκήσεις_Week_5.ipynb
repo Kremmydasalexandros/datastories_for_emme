{
  "nbformat": 4,
  "nbformat_minor": 0,
  "metadata": {
    "colab": {
      "provenance": [],
      "authorship_tag": "ABX9TyP486Mk7/IX6NpHhuL1U7YL",
      "include_colab_link": true
    },
    "kernelspec": {
      "name": "python3",
      "display_name": "Python 3"
    },
    "language_info": {
      "name": "python"
    }
  },
  "cells": [
    {
      "cell_type": "markdown",
      "metadata": {
        "id": "view-in-github",
        "colab_type": "text"
      },
      "source": [
        "<a href=\"https://colab.research.google.com/github/Kremmydasalexandros/datastories_for_emme/blob/main/%CE%91%CF%83%CE%BA%CE%AE%CF%83%CE%B5%CE%B9%CF%82_Week_5.ipynb\" target=\"_parent\"><img src=\"https://colab.research.google.com/assets/colab-badge.svg\" alt=\"Open In Colab\"/></a>"
      ]
    },
    {
      "cell_type": "markdown",
      "source": [
        "Άσκηση  1"
      ],
      "metadata": {
        "id": "XLQPmhyQtkZT"
      }
    },
    {
      "cell_type": "code",
      "execution_count": null,
      "metadata": {
        "id": "ti0HgGphp6fP"
      },
      "outputs": [],
      "source": [
        "urlsL = [\n",
        "    \"https://www.reporter.gr/Oles-oi-eidhseis/600370-Ghpeda-Pws-na-apokthsete-hlektroniko-eisithrio-me-kinhto-Huawei-H-diadikasia\",\n",
        "    \"https://www.reporter.gr/Diethnh/Diethneis-Eidhseis/600372-Synodos-Koryfhs-Proshlwsh-sth-synolikh-dieythethsh-toy-Kypriakoy\",\n",
        "    \"https://www.reporter.gr/Analyseis/600531-AVE-Apo-12-4-se-diapragmateysh-oi-20,64-ekat-nees-metoches\",\n",
        "    \"https://www.reporter.gr/Diethnh/Chrhmatisthria/600539-Meikta-proshma-stis-eyrwagores-meta-to-alma-plhthwrismoy-stis-HPA\"\n",
        "]\n",
        "\n",
        "\n"
      ]
    },
    {
      "cell_type": "code",
      "source": [
        "titles_list = []\n",
        "words_nbr_list = []"
      ],
      "metadata": {
        "id": "0VLtGS53p7vo"
      },
      "execution_count": null,
      "outputs": []
    },
    {
      "cell_type": "code",
      "source": [
        "for url in urlsL:\n",
        "  url = url.split(\"/\")\n",
        "  title = url[-1]\n",
        "  index_start = title.index(\"-\")\n",
        "  title = title[index_start+1 : ]\n",
        "  title = title.replace(\"-\", \" \")\n",
        "  titles_list.append(title)\n",
        "  title_words = title.split(\" \")\n",
        "  words_nbr = len(title_words)\n",
        "  words_nbr_list.append(words_nbr)"
      ],
      "metadata": {
        "id": "HyCbYb8iqah1"
      },
      "execution_count": null,
      "outputs": []
    },
    {
      "cell_type": "code",
      "source": [
        "print(titles_list)\n",
        "print(words_nbr_list)"
      ],
      "metadata": {
        "colab": {
          "base_uri": "https://localhost:8080/"
        },
        "id": "Xu1AUxgdqc0j",
        "outputId": "9c84e748-3b8a-4bc2-d9a8-5bbbbc1d9287"
      },
      "execution_count": null,
      "outputs": [
        {
          "output_type": "stream",
          "name": "stdout",
          "text": [
            "['Ghpeda Pws na apokthsete hlektroniko eisithrio me kinhto Huawei H diadikasia', 'Synodos Koryfhs Proshlwsh sth synolikh dieythethsh toy Kypriakoy', 'AVE Apo 12 4 se diapragmateysh oi 20,64 ekat nees metoches', 'Meikta proshma stis eyrwagores meta to alma plhthwrismoy stis HPA']\n",
            "[11, 8, 11, 10]\n"
          ]
        }
      ]
    },
    {
      "cell_type": "markdown",
      "source": [
        "Άσκηση 2"
      ],
      "metadata": {
        "id": "AKmb3G3mtos5"
      }
    },
    {
      "cell_type": "code",
      "source": [
        "urlsL2 = [\"https://www.efsyn.gr/politiki/kybernisi/429591_stirixi-toy-israil-alla-kai-diahyti-anisyhia-stin-athina\" ,\n",
        "         \"https://www.efsyn.gr/ellada/koinonia/429581_nekros-apo-fotia-se-xenodoheio-tis-liosion\" ,\n",
        "         \"https://www.efsyn.gr/kosmos/eyropi/429585_polonoi-diadilosan-kata-ton-ambloseon-stin-barsobia\" ,\n",
        "          \"https://www.efsyn.gr/tehnes/sinema/429166_mia-tainia-katoteri-toy-fainomenoy-amy-winehouse\" ]\n",
        "\n",
        "\n"
      ],
      "metadata": {
        "id": "suzz3SL3tp3n"
      },
      "execution_count": 50,
      "outputs": []
    },
    {
      "cell_type": "code",
      "source": [
        "titles_list2 = []\n",
        "words_nbr_list2 = []\n",
        "\n"
      ],
      "metadata": {
        "id": "Upu1LhJLvGIz"
      },
      "execution_count": 51,
      "outputs": []
    },
    {
      "cell_type": "code",
      "source": [
        "for url in urlsL2:\n",
        "  url = url.split(\"/\")\n",
        "  title = url[-1]\n",
        "  index_start = title.index(\"_\")\n",
        "  title = title[index_start+1 : ]\n",
        "  title = title.replace(\"-\", \" \")\n",
        "  titles_list2.append(title)\n",
        "  title_words = title.split(\" \")\n",
        "  words_nbr = len(title_words)\n",
        "  words_nbr_list2.append(words_nbr)\n",
        "\n"
      ],
      "metadata": {
        "id": "sp37me1pvHoa"
      },
      "execution_count": 52,
      "outputs": []
    },
    {
      "cell_type": "code",
      "source": [
        "print(titles_list2)\n",
        "print(words_nbr_list2)"
      ],
      "metadata": {
        "colab": {
          "base_uri": "https://localhost:8080/"
        },
        "id": "XPA3LNaSvKNU",
        "outputId": "cd699b1f-4807-4f54-e6e2-72fbe7f4d416"
      },
      "execution_count": 53,
      "outputs": [
        {
          "output_type": "stream",
          "name": "stdout",
          "text": [
            "['stirixi toy israil alla kai diahyti anisyhia stin athina', 'nekros apo fotia se xenodoheio tis liosion', 'polonoi diadilosan kata ton ambloseon stin barsobia', 'mia tainia katoteri toy fainomenoy amy winehouse']\n",
            "[9, 7, 7, 7]\n"
          ]
        }
      ]
    }
  ]
}