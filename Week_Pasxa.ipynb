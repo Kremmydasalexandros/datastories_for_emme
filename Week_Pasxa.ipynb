{
  "nbformat": 4,
  "nbformat_minor": 0,
  "metadata": {
    "colab": {
      "provenance": [],
      "authorship_tag": "ABX9TyOJ+vXB3gJ3OWh4ZpoKmgmC",
      "include_colab_link": true
    },
    "kernelspec": {
      "name": "python3",
      "display_name": "Python 3"
    },
    "language_info": {
      "name": "python"
    }
  },
  "cells": [
    {
      "cell_type": "markdown",
      "metadata": {
        "id": "view-in-github",
        "colab_type": "text"
      },
      "source": [
        "<a href=\"https://colab.research.google.com/github/Kremmydasalexandros/datastories_for_emme/blob/main/Week_Pasxa.ipynb\" target=\"_parent\"><img src=\"https://colab.research.google.com/assets/colab-badge.svg\" alt=\"Open In Colab\"/></a>"
      ]
    },
    {
      "cell_type": "markdown",
      "source": [
        "ΆΣΚΗΣΗ 1"
      ],
      "metadata": {
        "id": "zIiBwR44lTCI"
      }
    },
    {
      "cell_type": "code",
      "execution_count": 1,
      "metadata": {
        "colab": {
          "base_uri": "https://localhost:8080/"
        },
        "id": "_XcItNeKlOcw",
        "outputId": "81508c5c-ba3c-4cdb-b126-ac66aa6a20b7"
      },
      "outputs": [
        {
          "output_type": "stream",
          "name": "stdout",
          "text": [
            "το c είναι 7\n",
            "14\n"
          ]
        }
      ],
      "source": [
        "c = 7\n",
        "print(\"το c είναι\" ,c )\n",
        "c = c*2\n",
        "print(c)"
      ]
    },
    {
      "cell_type": "markdown",
      "source": [
        "ΑΣΚΗΣΗ 2"
      ],
      "metadata": {
        "id": "mYBN7esnlbVN"
      }
    },
    {
      "cell_type": "code",
      "source": [
        "a = 5\n",
        "b = 4\n",
        "c = 7\n",
        "diafora = c - a\n",
        "print(diafora)\n",
        "ypoloipo = c / b\n",
        "#print(ypoloipo)\n",
        "print(f\"το πηλίκο της διαίρεσης του {c} με το  {a} είναι {ypoloipo}\")"
      ],
      "metadata": {
        "colab": {
          "base_uri": "https://localhost:8080/"
        },
        "id": "B8wc3l1BlcjS",
        "outputId": "45a5eee3-6b08-4c83-992e-4300093f3a91"
      },
      "execution_count": 2,
      "outputs": [
        {
          "output_type": "stream",
          "name": "stdout",
          "text": [
            "2\n",
            "το πηλίκο της διαίρεσης του 7 με το  5 είναι 1.75\n"
          ]
        }
      ]
    },
    {
      "cell_type": "markdown",
      "source": [
        "ΑΣΚΗΣΗ 3"
      ],
      "metadata": {
        "id": "2DuwsWDAlgMp"
      }
    },
    {
      "cell_type": "code",
      "source": [
        "a = 5\n",
        "b = 4\n",
        "c = 7\n",
        "numbers_list = []\n",
        "numbers_list.append(a)\n",
        "print(numbers_list)\n",
        "numbers_list.append(b)\n",
        "print(numbers_list)\n",
        "numbers_list.append(c)\n",
        "print(numbers_list)\n",
        "numbers_list_lenght = len(numbers_list)\n",
        "print(numbers_list_lenght)\n",
        "numbers_list = [a , b , c]\n",
        "print(numbers_list)\n",
        "len(numbers_list)"
      ],
      "metadata": {
        "colab": {
          "base_uri": "https://localhost:8080/"
        },
        "id": "cA8kRre8ljTQ",
        "outputId": "f848f5d9-305a-43d2-b77f-14677df81fce"
      },
      "execution_count": 3,
      "outputs": [
        {
          "output_type": "stream",
          "name": "stdout",
          "text": [
            "[5]\n",
            "[5, 4]\n",
            "[5, 4, 7]\n",
            "3\n",
            "[5, 4, 7]\n"
          ]
        },
        {
          "output_type": "execute_result",
          "data": {
            "text/plain": [
              "3"
            ]
          },
          "metadata": {},
          "execution_count": 3
        }
      ]
    },
    {
      "cell_type": "markdown",
      "source": [
        "ΑΣΚΗΣ 4"
      ],
      "metadata": {
        "id": "wZaZHHYNlpZd"
      }
    },
    {
      "cell_type": "code",
      "source": [
        "a = 5\n",
        "b = 4\n",
        "c = 7\n",
        "numbers_list = [a , b , c ]\n",
        "print(numbers_list)\n",
        "#print(numbers_list[-2])\n",
        "print(f'το προτελευταίο αντικείμενο της λίστας \"numbers_list\" είναι το {numbers_list[-2]}')\n",
        "print(numbers_list)\n",
        "numbers_list.sort()\n",
        "print(numbers_list)\n",
        "print(f'ολόκληρη η λίστα \"numbers_list: {numbers_list}')\n",
        "print(f'τα 2 τελευταία αντικείμενα της λίστας \"numbers_list\":{numbers_list[-2:]}')"
      ],
      "metadata": {
        "colab": {
          "base_uri": "https://localhost:8080/"
        },
        "id": "3vFLT_Silqx7",
        "outputId": "c968185f-671a-4fb5-d3b0-87dcbb1821f4"
      },
      "execution_count": 4,
      "outputs": [
        {
          "output_type": "stream",
          "name": "stdout",
          "text": [
            "[5, 4, 7]\n",
            "το προτελευταίο αντικείμενο της λίστας \"numbers_list\" είναι το 4\n",
            "[5, 4, 7]\n",
            "[4, 5, 7]\n",
            "ολόκληρη η λίστα \"numbers_list: [4, 5, 7]\n",
            "τα 2 τελευταία αντικείμενα της λίστας \"numbers_list\":[5, 7]\n"
          ]
        }
      ]
    },
    {
      "cell_type": "markdown",
      "source": [
        "ΑΣΚΗΣΗ 5"
      ],
      "metadata": {
        "id": "Lv_n7tFalvoa"
      }
    },
    {
      "cell_type": "code",
      "source": [
        "#a = 5\n",
        "#b = 4\n",
        "#c = 7\n",
        "#numbers_list = [ a , b , c ]\n",
        "#print(numbers_list)\n",
        "doubles_list =[]\n",
        "for i in numbers_list:\n",
        "  double = i*2\n",
        "  doubles_list.append(double)\n",
        "print(doubles_list)\n",
        "triple_list = []\n",
        "for i in numbers_list:\n",
        "  triple = i*3\n",
        "  triple_list.append(triple)\n",
        "print(triple_list)"
      ],
      "metadata": {
        "colab": {
          "base_uri": "https://localhost:8080/"
        },
        "id": "JmIgZH04lwlU",
        "outputId": "690a9a0a-556e-4e16-a678-91b20697b17e"
      },
      "execution_count": 5,
      "outputs": [
        {
          "output_type": "stream",
          "name": "stdout",
          "text": [
            "[8, 10, 14]\n",
            "[12, 15, 21]\n"
          ]
        }
      ]
    },
    {
      "cell_type": "markdown",
      "source": [
        "ΑΣΚΗΣΗ 6"
      ],
      "metadata": {
        "id": "J2muI_oSl0_l"
      }
    },
    {
      "cell_type": "code",
      "source": [
        "#for num in numbers_list:\n",
        "  #if num % 2 == 0:\n",
        "    #print(f\"το {num} είναι ζυγός αριθμός\")\n",
        "  #else:\n",
        "    #print(f\"το {num} είναι μονός αριθμός\")\n",
        "\n",
        " #for num in doubles_list:\n",
        "  #if num % 2 == 0:\n",
        "    #print(f\"το {num} είναι ζυγός αριθμός\")\n",
        "  #else:\n",
        "    #print(f\"το {num} είναι μονός αριθμός\")\n",
        "\n",
        " #for num in triple_list:\n",
        "  #if num % 2 == 0:\n",
        "    #print(f\"το {num} είναι ζυγός αριθμός\")\n",
        "  #else:\n",
        "    #print(f\"το {num} είναι μονός αριθμός\")\n",
        "\n",
        "total_list = numbers_list+doubles_list+triple_list\n",
        "print(total_list)\n",
        "\n",
        "for num in total_list:\n",
        "  if num % 2 == 0:\n",
        "    print(f\"το {num} είναι ζυγός αριθμός\")\n",
        "  else:\n",
        "    print(f\"το {num} είναι μονός αριθμός\")\n",
        "\n",
        "odd_list = {total_list[num%2 == 0]}\n",
        "print(odd_list)"
      ],
      "metadata": {
        "colab": {
          "base_uri": "https://localhost:8080/"
        },
        "id": "fIYtxdNel2Zs",
        "outputId": "663b824c-386d-4500-dfec-07c5567a0a45"
      },
      "execution_count": 7,
      "outputs": [
        {
          "output_type": "stream",
          "name": "stdout",
          "text": [
            "[4, 5, 7, 8, 10, 14, 12, 15, 21]\n",
            "το 4 είναι ζυγός αριθμός\n",
            "το 5 είναι μονός αριθμός\n",
            "το 7 είναι μονός αριθμός\n",
            "το 8 είναι ζυγός αριθμός\n",
            "το 10 είναι ζυγός αριθμός\n",
            "το 14 είναι ζυγός αριθμός\n",
            "το 12 είναι ζυγός αριθμός\n",
            "το 15 είναι μονός αριθμός\n",
            "το 21 είναι μονός αριθμός\n",
            "{4}\n"
          ]
        }
      ]
    },
    {
      "cell_type": "markdown",
      "source": [
        "ΑΣΚΗΣΗ 7"
      ],
      "metadata": {
        "id": "jp8hOLEgl7Gf"
      }
    },
    {
      "cell_type": "code",
      "source": [
        "List = [\"https://reporter.gr\", \"mitsos@gmail.com\", \"https://cnn.gr\", \"annak@gmail.com\"]\n",
        "\n",
        "  #for item in List:\n",
        "      #if \"https\" in List :\n",
        "#print(\"ανήκει στη λίστα url\")\n",
        "\n",
        "\n",
        "for item in List:\n",
        "    if \"https\" in item:\n",
        "        print(item, \"ανήκει στη λίστα url\")\n",
        "\n",
        "    if \"@\" in item:\n",
        "        print(item, \"ανήκει στη λίστα mails\")\n",
        "\n",
        "urls = []\n",
        "emails = []\n",
        "\n",
        "for item in List:\n",
        "    if \"https\" in item:\n",
        "        urls.append(item)\n",
        "    else:\n",
        "        emails.append(item)\n",
        "\n",
        "print(urls)\n",
        "print(emails)\n",
        "\n",
        "print(\"urls:\", urls)\n",
        "print(\"emails:\", emails)"
      ],
      "metadata": {
        "id": "rks9i2ZPl8gE"
      },
      "execution_count": null,
      "outputs": []
    },
    {
      "cell_type": "markdown",
      "source": [
        "ΑΣΚΗΣΗ 8"
      ],
      "metadata": {
        "id": "sg0GKJRhmBVs"
      }
    },
    {
      "cell_type": "code",
      "source": [
        "names = [\"Κώστας Μουρλάς\", \"Κατερίνα Σωτηράκου\", \"Θοδωρής Παρασκευάς\"]\n",
        "\n",
        "for name in names:\n",
        "    last_name = name.split()[-1]\n",
        "    print(last_name)\n",
        "\n",
        "    if last_name.endswith(\"ς\"):\n",
        "        print(\"Αγαπητέ κύριε\", last_name[:-1] + \",\")\n",
        "    else:\n",
        "        print(\"Αγαπητή κυρία\", last_name + \",\")"
      ],
      "metadata": {
        "id": "80Z6tCYImCb0"
      },
      "execution_count": null,
      "outputs": []
    },
    {
      "cell_type": "markdown",
      "source": [
        "ΑΣΚΗΣΗ 9"
      ],
      "metadata": {
        "id": "AYFi78oomFbK"
      }
    },
    {
      "cell_type": "code",
      "source": [
        "names = [\"Κώστας Μουρλάς\", \"Κατερίνα Σωτηράκου\", \"Θοδωρής Παρασκευάς\", \"Νίκος Παπαναστασίου\"]\n",
        "\n",
        "for name in names:\n",
        "    last_name = name.split()[-1]\n",
        "    if last_name[-1] == \"ς\":\n",
        "        print(\"Αγαπητέ κύριε\", last_name[:-1] + \",\")\n",
        "    else:\n",
        "        if last_name.endswith(\"ου\") :\n",
        "            print(\"Αγαπητέ κύριε\", last_name + \",\")\n",
        "        else:\n",
        "            print(\"Αγαπητή κυρία\", last_name + \",\")\n"
      ],
      "metadata": {
        "id": "6JEldYawmGuR"
      },
      "execution_count": null,
      "outputs": []
    }
  ]
}